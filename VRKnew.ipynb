{
  "nbformat": 4,
  "nbformat_minor": 0,
  "metadata": {
    "colab": {
      "name": "VRKnew.ipynb",
      "provenance": [],
      "collapsed_sections": [],
      "mount_file_id": "1k6dfftzcmCx9zcTAOgseJKb-lsS0zJFx",
      "authorship_tag": "ABX9TyORSFUfeG2o2mjjzwcKO2kZ",
      "include_colab_link": true
    },
    "kernelspec": {
      "name": "python3",
      "display_name": "Python 3"
    },
    "language_info": {
      "name": "python"
    }
  },
  "cells": [
    {
      "cell_type": "markdown",
      "metadata": {
        "id": "view-in-github",
        "colab_type": "text"
      },
      "source": [
        "<a href=\"https://colab.research.google.com/github/AlexeyMM84/VKR/blob/main/VRKnew.ipynb\" target=\"_parent\"><img src=\"https://colab.research.google.com/assets/colab-badge.svg\" alt=\"Open In Colab\"/></a>"
      ]
    },
    {
      "cell_type": "markdown",
      "source": [
        "БИБЛОТЕКИ"
      ],
      "metadata": {
        "id": "sHzUYbr1Ijyi"
      }
    },
    {
      "cell_type": "code",
      "source": [
        "#Загружаем необходимые библиотеки\n",
        "import pandas as pd\n",
        "import matplotlib.pyplot as plt\n",
        "import numpy as np\n",
        "import seaborn as sns\n",
        "from sklearn.metrics import mean_squared_error, r2_score\n",
        "from sklearn.preprocessing import MinMaxScaler\n",
        "from sklearn.neighbors import KNeighborsRegressor\n",
        "from sklearn.linear_model import LinearRegression, LogisticRegression\n",
        "from sklearn.svm import SVR\n",
        "from sklearn.ensemble import RandomForestRegressor\n",
        "from sklearn.metrics import r2_score\n",
        "from sklearn.model_selection import train_test_split\n"
      ],
      "metadata": {
        "id": "9BqmKgXUtt3B"
      },
      "execution_count": 23,
      "outputs": []
    },
    {
      "cell_type": "code",
      "source": [
        "#Подклчаемся к гугл-диску\n",
        "from google.colab import drive\n",
        "drive.mount('/content/drive')"
      ],
      "metadata": {
        "colab": {
          "base_uri": "https://localhost:8080/"
        },
        "id": "EITAcrZ9A07V",
        "outputId": "8b4b80be-8e75-4136-97fe-d22c3d64de40"
      },
      "execution_count": 24,
      "outputs": [
        {
          "output_type": "stream",
          "name": "stdout",
          "text": [
            "Drive already mounted at /content/drive; to attempt to forcibly remount, call drive.mount(\"/content/drive\", force_remount=True).\n"
          ]
        }
      ]
    },
    {
      "cell_type": "code",
      "source": [
        "#Считываем информацию \n",
        "bp=pd.read_excel('/content/drive/MyDrive/X_bp.xlsx', index_col=0)\n",
        "nup=pd.read_excel('/content/drive/MyDrive/X_nup.xlsx', index_col=0)"
      ],
      "metadata": {
        "id": "etWCu012BCAY"
      },
      "execution_count": 25,
      "outputs": []
    },
    {
      "cell_type": "code",
      "source": [
        "#Смотрим на размерность массивов\n",
        "bp.shape"
      ],
      "metadata": {
        "id": "ppApH15sOevi",
        "outputId": "6b07eda7-622c-4b3f-e5de-23dad03d8106",
        "colab": {
          "base_uri": "https://localhost:8080/"
        }
      },
      "execution_count": 26,
      "outputs": [
        {
          "output_type": "execute_result",
          "data": {
            "text/plain": [
              "(1023, 10)"
            ]
          },
          "metadata": {},
          "execution_count": 26
        }
      ]
    },
    {
      "cell_type": "code",
      "source": [
        "nup.shape"
      ],
      "metadata": {
        "id": "IlSB7mKtPBm6",
        "outputId": "a403671e-7924-47a3-dcc6-ed377589865a",
        "colab": {
          "base_uri": "https://localhost:8080/"
        }
      },
      "execution_count": 27,
      "outputs": [
        {
          "output_type": "execute_result",
          "data": {
            "text/plain": [
              "(1040, 3)"
            ]
          },
          "metadata": {},
          "execution_count": 27
        }
      ]
    },
    {
      "cell_type": "code",
      "source": [
        "#Объединяем массивы(т.к это единый набор данных)\n",
        "df = nup.join(bp,  how='inner')"
      ],
      "metadata": {
        "id": "_pqMDYV2PFHW"
      },
      "execution_count": 28,
      "outputs": []
    },
    {
      "cell_type": "code",
      "source": [
        "df.info()"
      ],
      "metadata": {
        "id": "6jIjutcESWVQ",
        "outputId": "7bcb3ac4-3275-48a5-c03f-42bb176cb711",
        "colab": {
          "base_uri": "https://localhost:8080/"
        }
      },
      "execution_count": 29,
      "outputs": [
        {
          "output_type": "stream",
          "name": "stdout",
          "text": [
            "<class 'pandas.core.frame.DataFrame'>\n",
            "Float64Index: 1023 entries, 0.0 to 1022.0\n",
            "Data columns (total 13 columns):\n",
            " #   Column                                Non-Null Count  Dtype  \n",
            "---  ------                                --------------  -----  \n",
            " 0   Угол нашивки, град                    1023 non-null   float64\n",
            " 1   Шаг нашивки                           1023 non-null   float64\n",
            " 2   Плотность нашивки                     1023 non-null   float64\n",
            " 3   Соотношение матрица-наполнитель       1023 non-null   float64\n",
            " 4   Плотность, кг/м3                      1023 non-null   float64\n",
            " 5   модуль упругости, ГПа                 1023 non-null   float64\n",
            " 6   Количество отвердителя, м.%           1023 non-null   float64\n",
            " 7   Содержание эпоксидных групп,%_2       1023 non-null   float64\n",
            " 8   Температура вспышки, С_2              1023 non-null   float64\n",
            " 9   Поверхностная плотность, г/м2         1023 non-null   float64\n",
            " 10  Модуль упругости при растяжении, ГПа  1023 non-null   float64\n",
            " 11  Прочность при растяжении, МПа         1023 non-null   float64\n",
            " 12  Потребление смолы, г/м2               1023 non-null   float64\n",
            "dtypes: float64(13)\n",
            "memory usage: 111.9 KB\n"
          ]
        }
      ]
    },
    {
      "cell_type": "code",
      "source": [
        "df.duplicated().sum()"
      ],
      "metadata": {
        "id": "GJQUuVHSSlft",
        "outputId": "97ae86ba-f518-4f6f-f771-4c9beb56bdfe",
        "colab": {
          "base_uri": "https://localhost:8080/"
        }
      },
      "execution_count": 30,
      "outputs": [
        {
          "output_type": "execute_result",
          "data": {
            "text/plain": [
              "0"
            ]
          },
          "metadata": {},
          "execution_count": 30
        }
      ]
    },
    {
      "cell_type": "code",
      "source": [
        "#Представление о распределении значений - описательная статистика\n",
        "df.describe().T.round(3)"
      ],
      "metadata": {
        "id": "6EIOgrdMTtc3",
        "outputId": "fd7fedd1-22c9-400d-b459-e3f717dcbb73",
        "colab": {
          "base_uri": "https://localhost:8080/",
          "height": 457
        }
      },
      "execution_count": 35,
      "outputs": [
        {
          "output_type": "execute_result",
          "data": {
            "text/plain": [
              "                                       count      mean      std       min  \\\n",
              "Угол нашивки, град                    1023.0    44.252   45.016     0.000   \n",
              "Шаг нашивки                           1023.0     6.899    2.563     0.000   \n",
              "Плотность нашивки                     1023.0    57.154   12.351     0.000   \n",
              "Соотношение матрица-наполнитель       1023.0     2.930    0.913     0.389   \n",
              "Плотность, кг/м3                      1023.0  1975.735   73.729  1731.765   \n",
              "модуль упругости, ГПа                 1023.0   739.923  330.232     2.437   \n",
              "Количество отвердителя, м.%           1023.0   110.571   28.296    17.740   \n",
              "Содержание эпоксидных групп,%_2       1023.0    22.244    2.406    14.255   \n",
              "Температура вспышки, С_2              1023.0   285.882   40.943   100.000   \n",
              "Поверхностная плотность, г/м2         1023.0   482.732  281.315     0.604   \n",
              "Модуль упругости при растяжении, ГПа  1023.0    73.329    3.119    64.054   \n",
              "Прочность при растяжении, МПа         1023.0  2466.923  485.628  1036.857   \n",
              "Потребление смолы, г/м2               1023.0   218.423   59.736    33.803   \n",
              "\n",
              "                                           25%       50%       75%       max  \n",
              "Угол нашивки, град                       0.000     0.000    90.000    90.000  \n",
              "Шаг нашивки                              5.080     6.916     8.586    14.441  \n",
              "Плотность нашивки                       49.799    57.342    64.945   103.989  \n",
              "Соотношение матрица-наполнитель          2.318     2.907     3.553     5.592  \n",
              "Плотность, кг/м3                      1924.155  1977.622  2021.374  2207.773  \n",
              "модуль упругости, ГПа                  500.047   739.664   961.813  1911.536  \n",
              "Количество отвердителя, м.%             92.443   110.565   129.730   198.953  \n",
              "Содержание эпоксидных групп,%_2         20.608    22.231    23.962    33.000  \n",
              "Температура вспышки, С_2               259.067   285.897   313.002   413.273  \n",
              "Поверхностная плотность, г/м2          266.817   451.864   693.225  1399.542  \n",
              "Модуль упругости при растяжении, ГПа    71.245    73.269    75.357    82.682  \n",
              "Прочность при растяжении, МПа         2135.850  2459.525  2767.193  3848.437  \n",
              "Потребление смолы, г/м2                179.628   219.199   257.482   414.591  "
            ],
            "text/html": [
              "\n",
              "  <div id=\"df-d7457f79-6534-4cd4-80b9-e40753c53468\">\n",
              "    <div class=\"colab-df-container\">\n",
              "      <div>\n",
              "<style scoped>\n",
              "    .dataframe tbody tr th:only-of-type {\n",
              "        vertical-align: middle;\n",
              "    }\n",
              "\n",
              "    .dataframe tbody tr th {\n",
              "        vertical-align: top;\n",
              "    }\n",
              "\n",
              "    .dataframe thead th {\n",
              "        text-align: right;\n",
              "    }\n",
              "</style>\n",
              "<table border=\"1\" class=\"dataframe\">\n",
              "  <thead>\n",
              "    <tr style=\"text-align: right;\">\n",
              "      <th></th>\n",
              "      <th>count</th>\n",
              "      <th>mean</th>\n",
              "      <th>std</th>\n",
              "      <th>min</th>\n",
              "      <th>25%</th>\n",
              "      <th>50%</th>\n",
              "      <th>75%</th>\n",
              "      <th>max</th>\n",
              "    </tr>\n",
              "  </thead>\n",
              "  <tbody>\n",
              "    <tr>\n",
              "      <th>Угол нашивки, град</th>\n",
              "      <td>1023.0</td>\n",
              "      <td>44.252</td>\n",
              "      <td>45.016</td>\n",
              "      <td>0.000</td>\n",
              "      <td>0.000</td>\n",
              "      <td>0.000</td>\n",
              "      <td>90.000</td>\n",
              "      <td>90.000</td>\n",
              "    </tr>\n",
              "    <tr>\n",
              "      <th>Шаг нашивки</th>\n",
              "      <td>1023.0</td>\n",
              "      <td>6.899</td>\n",
              "      <td>2.563</td>\n",
              "      <td>0.000</td>\n",
              "      <td>5.080</td>\n",
              "      <td>6.916</td>\n",
              "      <td>8.586</td>\n",
              "      <td>14.441</td>\n",
              "    </tr>\n",
              "    <tr>\n",
              "      <th>Плотность нашивки</th>\n",
              "      <td>1023.0</td>\n",
              "      <td>57.154</td>\n",
              "      <td>12.351</td>\n",
              "      <td>0.000</td>\n",
              "      <td>49.799</td>\n",
              "      <td>57.342</td>\n",
              "      <td>64.945</td>\n",
              "      <td>103.989</td>\n",
              "    </tr>\n",
              "    <tr>\n",
              "      <th>Соотношение матрица-наполнитель</th>\n",
              "      <td>1023.0</td>\n",
              "      <td>2.930</td>\n",
              "      <td>0.913</td>\n",
              "      <td>0.389</td>\n",
              "      <td>2.318</td>\n",
              "      <td>2.907</td>\n",
              "      <td>3.553</td>\n",
              "      <td>5.592</td>\n",
              "    </tr>\n",
              "    <tr>\n",
              "      <th>Плотность, кг/м3</th>\n",
              "      <td>1023.0</td>\n",
              "      <td>1975.735</td>\n",
              "      <td>73.729</td>\n",
              "      <td>1731.765</td>\n",
              "      <td>1924.155</td>\n",
              "      <td>1977.622</td>\n",
              "      <td>2021.374</td>\n",
              "      <td>2207.773</td>\n",
              "    </tr>\n",
              "    <tr>\n",
              "      <th>модуль упругости, ГПа</th>\n",
              "      <td>1023.0</td>\n",
              "      <td>739.923</td>\n",
              "      <td>330.232</td>\n",
              "      <td>2.437</td>\n",
              "      <td>500.047</td>\n",
              "      <td>739.664</td>\n",
              "      <td>961.813</td>\n",
              "      <td>1911.536</td>\n",
              "    </tr>\n",
              "    <tr>\n",
              "      <th>Количество отвердителя, м.%</th>\n",
              "      <td>1023.0</td>\n",
              "      <td>110.571</td>\n",
              "      <td>28.296</td>\n",
              "      <td>17.740</td>\n",
              "      <td>92.443</td>\n",
              "      <td>110.565</td>\n",
              "      <td>129.730</td>\n",
              "      <td>198.953</td>\n",
              "    </tr>\n",
              "    <tr>\n",
              "      <th>Содержание эпоксидных групп,%_2</th>\n",
              "      <td>1023.0</td>\n",
              "      <td>22.244</td>\n",
              "      <td>2.406</td>\n",
              "      <td>14.255</td>\n",
              "      <td>20.608</td>\n",
              "      <td>22.231</td>\n",
              "      <td>23.962</td>\n",
              "      <td>33.000</td>\n",
              "    </tr>\n",
              "    <tr>\n",
              "      <th>Температура вспышки, С_2</th>\n",
              "      <td>1023.0</td>\n",
              "      <td>285.882</td>\n",
              "      <td>40.943</td>\n",
              "      <td>100.000</td>\n",
              "      <td>259.067</td>\n",
              "      <td>285.897</td>\n",
              "      <td>313.002</td>\n",
              "      <td>413.273</td>\n",
              "    </tr>\n",
              "    <tr>\n",
              "      <th>Поверхностная плотность, г/м2</th>\n",
              "      <td>1023.0</td>\n",
              "      <td>482.732</td>\n",
              "      <td>281.315</td>\n",
              "      <td>0.604</td>\n",
              "      <td>266.817</td>\n",
              "      <td>451.864</td>\n",
              "      <td>693.225</td>\n",
              "      <td>1399.542</td>\n",
              "    </tr>\n",
              "    <tr>\n",
              "      <th>Модуль упругости при растяжении, ГПа</th>\n",
              "      <td>1023.0</td>\n",
              "      <td>73.329</td>\n",
              "      <td>3.119</td>\n",
              "      <td>64.054</td>\n",
              "      <td>71.245</td>\n",
              "      <td>73.269</td>\n",
              "      <td>75.357</td>\n",
              "      <td>82.682</td>\n",
              "    </tr>\n",
              "    <tr>\n",
              "      <th>Прочность при растяжении, МПа</th>\n",
              "      <td>1023.0</td>\n",
              "      <td>2466.923</td>\n",
              "      <td>485.628</td>\n",
              "      <td>1036.857</td>\n",
              "      <td>2135.850</td>\n",
              "      <td>2459.525</td>\n",
              "      <td>2767.193</td>\n",
              "      <td>3848.437</td>\n",
              "    </tr>\n",
              "    <tr>\n",
              "      <th>Потребление смолы, г/м2</th>\n",
              "      <td>1023.0</td>\n",
              "      <td>218.423</td>\n",
              "      <td>59.736</td>\n",
              "      <td>33.803</td>\n",
              "      <td>179.628</td>\n",
              "      <td>219.199</td>\n",
              "      <td>257.482</td>\n",
              "      <td>414.591</td>\n",
              "    </tr>\n",
              "  </tbody>\n",
              "</table>\n",
              "</div>\n",
              "      <button class=\"colab-df-convert\" onclick=\"convertToInteractive('df-d7457f79-6534-4cd4-80b9-e40753c53468')\"\n",
              "              title=\"Convert this dataframe to an interactive table.\"\n",
              "              style=\"display:none;\">\n",
              "        \n",
              "  <svg xmlns=\"http://www.w3.org/2000/svg\" height=\"24px\"viewBox=\"0 0 24 24\"\n",
              "       width=\"24px\">\n",
              "    <path d=\"M0 0h24v24H0V0z\" fill=\"none\"/>\n",
              "    <path d=\"M18.56 5.44l.94 2.06.94-2.06 2.06-.94-2.06-.94-.94-2.06-.94 2.06-2.06.94zm-11 1L8.5 8.5l.94-2.06 2.06-.94-2.06-.94L8.5 2.5l-.94 2.06-2.06.94zm10 10l.94 2.06.94-2.06 2.06-.94-2.06-.94-.94-2.06-.94 2.06-2.06.94z\"/><path d=\"M17.41 7.96l-1.37-1.37c-.4-.4-.92-.59-1.43-.59-.52 0-1.04.2-1.43.59L10.3 9.45l-7.72 7.72c-.78.78-.78 2.05 0 2.83L4 21.41c.39.39.9.59 1.41.59.51 0 1.02-.2 1.41-.59l7.78-7.78 2.81-2.81c.8-.78.8-2.07 0-2.86zM5.41 20L4 18.59l7.72-7.72 1.47 1.35L5.41 20z\"/>\n",
              "  </svg>\n",
              "      </button>\n",
              "      \n",
              "  <style>\n",
              "    .colab-df-container {\n",
              "      display:flex;\n",
              "      flex-wrap:wrap;\n",
              "      gap: 12px;\n",
              "    }\n",
              "\n",
              "    .colab-df-convert {\n",
              "      background-color: #E8F0FE;\n",
              "      border: none;\n",
              "      border-radius: 50%;\n",
              "      cursor: pointer;\n",
              "      display: none;\n",
              "      fill: #1967D2;\n",
              "      height: 32px;\n",
              "      padding: 0 0 0 0;\n",
              "      width: 32px;\n",
              "    }\n",
              "\n",
              "    .colab-df-convert:hover {\n",
              "      background-color: #E2EBFA;\n",
              "      box-shadow: 0px 1px 2px rgba(60, 64, 67, 0.3), 0px 1px 3px 1px rgba(60, 64, 67, 0.15);\n",
              "      fill: #174EA6;\n",
              "    }\n",
              "\n",
              "    [theme=dark] .colab-df-convert {\n",
              "      background-color: #3B4455;\n",
              "      fill: #D2E3FC;\n",
              "    }\n",
              "\n",
              "    [theme=dark] .colab-df-convert:hover {\n",
              "      background-color: #434B5C;\n",
              "      box-shadow: 0px 1px 3px 1px rgba(0, 0, 0, 0.15);\n",
              "      filter: drop-shadow(0px 1px 2px rgba(0, 0, 0, 0.3));\n",
              "      fill: #FFFFFF;\n",
              "    }\n",
              "  </style>\n",
              "\n",
              "      <script>\n",
              "        const buttonEl =\n",
              "          document.querySelector('#df-d7457f79-6534-4cd4-80b9-e40753c53468 button.colab-df-convert');\n",
              "        buttonEl.style.display =\n",
              "          google.colab.kernel.accessAllowed ? 'block' : 'none';\n",
              "\n",
              "        async function convertToInteractive(key) {\n",
              "          const element = document.querySelector('#df-d7457f79-6534-4cd4-80b9-e40753c53468');\n",
              "          const dataTable =\n",
              "            await google.colab.kernel.invokeFunction('convertToInteractive',\n",
              "                                                     [key], {});\n",
              "          if (!dataTable) return;\n",
              "\n",
              "          const docLinkHtml = 'Like what you see? Visit the ' +\n",
              "            '<a target=\"_blank\" href=https://colab.research.google.com/notebooks/data_table.ipynb>data table notebook</a>'\n",
              "            + ' to learn more about interactive tables.';\n",
              "          element.innerHTML = '';\n",
              "          dataTable['output_type'] = 'display_data';\n",
              "          await google.colab.output.renderOutput(dataTable, element);\n",
              "          const docLink = document.createElement('div');\n",
              "          docLink.innerHTML = docLinkHtml;\n",
              "          element.appendChild(docLink);\n",
              "        }\n",
              "      </script>\n",
              "    </div>\n",
              "  </div>\n",
              "  "
            ]
          },
          "metadata": {},
          "execution_count": 35
        }
      ]
    },
    {
      "cell_type": "markdown",
      "source": [
        "1.Разведочный анализ данных:\n",
        "1.1.Гистограммы распределения каждой переменной"
      ],
      "metadata": {
        "id": "l46O0TU-YXXi"
      }
    },
    {
      "cell_type": "code",
      "source": [
        ""
      ],
      "metadata": {
        "id": "HwhwVUknYYsE"
      },
      "execution_count": null,
      "outputs": []
    }
  ]
}